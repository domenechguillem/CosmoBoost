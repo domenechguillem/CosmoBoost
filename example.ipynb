{
 "cells": [
  {
   "cell_type": "code",
   "execution_count": 3,
   "metadata": {},
   "outputs": [],
   "source": [
    "import cosmoboost as cb\n",
    "import matplotlib.pyplot as plt\n",
    "cb.COSMOBOOST_DIR\n",
    "import healpy as hp"
   ]
  },
  {
   "cell_type": "code",
   "execution_count": 4,
   "metadata": {},
   "outputs": [],
   "source": [
    "pars = cb.DEFAULT_PARS\n",
    "pars['lmax']=5000\n",
    "pars['delta_ell']=10"
   ]
  },
  {
   "cell_type": "code",
   "execution_count": 5,
   "metadata": {},
   "outputs": [
    {
     "data": {
      "text/plain": [
       "{'T_0': 2.72548,\n",
       " 'beta': -0.00123,\n",
       " 'beta_exp_order': 4,\n",
       " 'd': 1,\n",
       " 'delta_ell': 10,\n",
       " 'derivative_dnu': 1.0,\n",
       " 'lmax': 4000,\n",
       " 'lmin': 0,\n",
       " 'normalize': True,\n",
       " 's': 0}"
      ]
     },
     "execution_count": 5,
     "metadata": {},
     "output_type": "execute_result"
    }
   ],
   "source": [
    "pars"
   ]
  },
  {
   "cell_type": "code",
   "execution_count": 6,
   "metadata": {
    "scrolled": true
   },
   "outputs": [
    {
     "name": "stdout",
     "output_type": "stream",
     "text": [
      "Calculating the index matrices...\n",
      "initializing fits file for the matrices...\n",
      "\n",
      "Matrices saved in: /Users/siavashyasini/Dropbox/Cosmology/Projects/2018/CosmoBoost/cosmoboost/data/beta_-0.00123/lmax_4000/M_s=0_delta10_lmax4000_beta-0.00123.fits\n",
      "Done!\n",
      "solving kernel ODE for d=1\n",
      "calculating the Doppler and aberration Kernel elements...\n",
      "eta values :  [ 0.      -0.00123]\n"
     ]
    },
    {
     "name": "stderr",
     "output_type": "stream",
     "text": [
      "/Users/siavashyasini/anaconda/lib/python2.7/site-packages/scipy/integrate/odepack.py:218: ODEintWarning: Repeated error test failures (internal error). Run with full_output = 1 to get quantitative information.\n",
      "  warnings.warn(warning_msg, ODEintWarning)\n"
     ]
    },
    {
     "name": "stdout",
     "output_type": "stream",
     "text": [
      "calculation time = 4459.37185502\n",
      "initializing fits file for the kernel...\n",
      "\n",
      "Kernel saved in: /Users/siavashyasini/Dropbox/Cosmology/Projects/2018/CosmoBoost/cosmoboost/data/beta_-0.00123/lmax_4000/K_T_s=0_delta10_lmax4000_beta-0.00123.fits\n"
     ]
    }
   ],
   "source": [
    "kernel = cb.Kernel(pars)"
   ]
  },
  {
   "cell_type": "code",
   "execution_count": 4,
   "metadata": {},
   "outputs": [
    {
     "data": {
      "text/plain": [
       "{'T_0': 2.72548,\n",
       " 'beta': -0.00123,\n",
       " 'beta_exp_order': 4,\n",
       " 'd': 1,\n",
       " 'delta_ell': 3,\n",
       " 'derivative_dnu': 1.0,\n",
       " 'lmax': 3100,\n",
       " 'lmin': 0,\n",
       " 'normalize': True,\n",
       " 's': 0}"
      ]
     },
     "execution_count": 4,
     "metadata": {},
     "output_type": "execute_result"
    }
   ],
   "source": [
    "pars"
   ]
  },
  {
   "cell_type": "code",
   "execution_count": 72,
   "metadata": {},
   "outputs": [
    {
     "name": "stdout",
     "output_type": "stream",
     "text": [
      "matrices loaded from file: /Users/siavashyasini/Dropbox/Cosmology/Projects/2018/CosmoBoost/cosmoboost/data/beta_-0.00123/lmax_3000/M_s=0_delta3_lmax3000_beta-0.00123.fits\n",
      "loading the index matrices...\n",
      "Done!\n",
      "Kernel loaded from file: /Users/siavashyasini/Dropbox/Cosmology/Projects/2018/CosmoBoost/cosmoboost/data/beta_-0.00123/lmax_3000/K_T_s=0_delta3_lmax3000_beta-0.00123.fits\n",
      "Kernel loaded from file: /Users/siavashyasini/Dropbox/Cosmology/Projects/2018/CosmoBoost/cosmoboost/data/beta_-0.00123/lmax_3000/K_T_s=0_delta3_lmax3000_beta-0.00123.fits\n",
      "0d3\n",
      "0d2\n"
     ]
    },
    {
     "data": {
      "text/plain": [
       "{'T_0': 2.72548,\n",
       " 'beta': -0.00123,\n",
       " 'beta_exp_order': 4,\n",
       " 'd': 3,\n",
       " 'delta_ell': 3,\n",
       " 'derivative_dnu': 1.0,\n",
       " 'lmax': 3000,\n",
       " 'lmin': 0,\n",
       " 'normalize': True,\n",
       " 's': 0}"
      ]
     },
     "execution_count": 72,
     "metadata": {},
     "output_type": "execute_result"
    }
   ],
   "source": [
    "kernel.d = 3\n",
    "kernel.s = 0\n",
    "kernel.beta = -0.00123\n",
    "kernel.delta_ell=10\n",
    "kernel.lmax=3000\n",
    "kernel.update()\n",
    "kernel.pars"
   ]
  },
  {
   "cell_type": "code",
   "execution_count": 5,
   "metadata": {},
   "outputs": [
    {
     "data": {
      "text/plain": [
       "(501501, 7)"
      ]
     },
     "execution_count": 5,
     "metadata": {},
     "output_type": "execute_result"
    }
   ],
   "source": [
    "kernel.mlpl.shape"
   ]
  },
  {
   "cell_type": "code",
   "execution_count": 6,
   "metadata": {},
   "outputs": [],
   "source": [
    "kernel_t = cb.mh.transpose(kernel.mlpl,kernel.delta_ell)"
   ]
  },
  {
   "cell_type": "code",
   "execution_count": 7,
   "metadata": {},
   "outputs": [
    {
     "data": {
      "image/png": "[encoded data removed]",
      "text/plain": [
       "<matplotlib.figure.Figure at 0x1162b2a50>"
      ]
     },
     "metadata": {},
     "output_type": "display_data"
    }
   ],
   "source": [
    "import matplotlib.pyplot as plt\n",
    "import numpy as np\n",
    "L = np.arange(-kernel.delta_ell,kernel.delta_ell+1)\n",
    "lmax = 1500\n",
    "#plt.plot(L,np.abs(kernel.mlpl[cb.mh.mlp2indx(0,100,0,lmax)]))\n",
    "plt.plot(L,kernel.mlpl[cb.mh.mlp2indx(0,500,0,lmax)],'k')\n",
    "plt.plot(L,kernel_t[cb.mh.mlp2indx(0,500,0,lmax)],'r')\n",
    "#plt.plot(L,np.abs(kernel.mlpl[cb.mh.mlp2indx(0,1000,0,lmax)]))\n",
    "#plt.plot(L,np.abs(kernel.mlpl[cb.mh.mlp2indx(0,1400,0,lmax)]),'blue')\n",
    "#plt.plot(L,np.abs(kernel.nu_mlpl(217)[cb.mh.mlp2indx(0,1400,0,lmax)]),'red')\n",
    "\n",
    "plt.show()"
   ]
  },
  {
   "cell_type": "code",
   "execution_count": 4,
   "metadata": {},
   "outputs": [
    {
     "data": {
      "text/plain": [
       "array([[  9.9999950e-01,   5.0430015e-07],\n",
       "       [  9.9999849e-01,   1.3447992e-06],\n",
       "       [  9.9999647e-01,   2.7232142e-06],\n",
       "       [  9.9999344e-01,   4.6107233e-06],\n",
       "       [  9.9998941e-01,   7.0041179e-06]])"
      ]
     },
     "execution_count": 4,
     "metadata": {},
     "output_type": "execute_result"
    }
   ],
   "source": [
    "kernel.lpl[:5,3:5]"
   ]
  },
  {
   "cell_type": "code",
   "execution_count": 6,
   "metadata": {},
   "outputs": [
    {
     "data": {
      "text/plain": [
       "array([[  1.0000076e+00,   4.5387233e-06],\n",
       "       [  1.0000066e+00,   1.3448057e-06],\n",
       "       [  1.0000045e+00,   3.0258082e-07],\n",
       "       [  1.0000015e+00,   1.0670416e-28],\n",
       "       [  9.9999748e-01,   2.8016607e-07]])"
      ]
     },
     "execution_count": 6,
     "metadata": {},
     "output_type": "execute_result"
    }
   ],
   "source": [
    "kernel.lpl[:5,3:5]"
   ]
  },
  {
   "cell_type": "code",
   "execution_count": 21,
   "metadata": {},
   "outputs": [
    {
     "name": "stdout",
     "output_type": "stream",
     "text": [
      "matrices loaded from file: /Users/siavashyasini/Dropbox/Cosmology/Projects/2018/CosmoBoost/cosmoboost/data/beta_-0.00123/lmax_1000/M_s=0_delta3_lmax1000_beta-0.00123.fits\n",
      "loading the index matrices...\n",
      "Done!\n",
      "Kernel loaded from file: /Users/siavashyasini/Dropbox/Cosmology/Projects/2018/CosmoBoost/cosmoboost/data/beta_-0.00123/lmax_1000/K_T_s=0_delta3_lmax1000_beta-0.00123.fits\n"
     ]
    },
    {
     "data": {
      "text/plain": [
       "array([[  9.9999975e-01,   7.1014094e-04],\n",
       "       [  9.9999894e-01,   1.2703380e-03],\n",
       "       [  9.9999744e-01,   1.8711690e-03],\n",
       "       [  9.9999518e-01,   2.4794403e-03],\n",
       "       [  9.9999215e-01,   3.0904777e-03]])"
      ]
     },
     "execution_count": 21,
     "metadata": {},
     "output_type": "execute_result"
    }
   ],
   "source": [
    "kernel.d=3\n",
    "kernel.update()\n",
    "kernel.mlpl[:5,3:5]\n",
    "kernel.mlpl[:5,3:5]"
   ]
  },
  {
   "cell_type": "code",
   "execution_count": 5,
   "metadata": {},
   "outputs": [
    {
     "name": "stdout",
     "output_type": "stream",
     "text": [
      "matrices loaded from file: /Users/siavashyasini/Dropbox/Cosmology/Projects/2018/CosmoBoost/cosmoboost/data/beta_-0.00123/lmax_1000/M_s=0_delta3_lmax1000_beta-0.00123.fits\n",
      "loading the index matrices...\n",
      "Done!\n",
      "Kernel loaded from file: /Users/siavashyasini/Dropbox/Cosmology/Projects/2018/CosmoBoost/cosmoboost/data/beta_-0.00123/lmax_1000/K_T_s=0_delta3_lmax1000_beta-0.00123.fits\n",
      "Kernel loaded from file: /Users/siavashyasini/Dropbox/Cosmology/Projects/2018/CosmoBoost/cosmoboost/data/beta_-0.00123/lmax_1000/K_T_s=0_delta3_lmax1000_beta-0.00123.fits\n",
      "0d5\n"
     ]
    },
    {
     "data": {
      "text/plain": [
       "array([[  1.0000038e+00,  -2.1304280e-03],\n",
       "       [  1.0000062e+00,  -1.2703424e-03],\n",
       "       [  1.0000038e+00,  -6.2372494e-04],\n",
       "       [  1.0000014e+00,   1.5609042e-14],\n",
       "       [  9.9999828e-01,   6.1809743e-04]])"
      ]
     },
     "execution_count": 5,
     "metadata": {},
     "output_type": "execute_result"
    }
   ],
   "source": [
    "kernel.d=5\n",
    "kernel.update()\n",
    "kernel.mlpl[:5,3:5]"
   ]
  },
  {
   "cell_type": "code",
   "execution_count": 4,
   "metadata": {},
   "outputs": [
    {
     "name": "stdout",
     "output_type": "stream",
     "text": [
      "matrices loaded from file: /Users/siavashyasini/Dropbox/Cosmology/Projects/2018/CosmoBoost/cosmoboost/data/beta_-0.00123/lmax_1000/M_s=0_delta3_lmax1000_beta-0.00123.fits\n",
      "loading the index matrices...\n",
      "Done!\n",
      "Kernel loaded from file: /Users/siavashyasini/Dropbox/Cosmology/Projects/2018/CosmoBoost/cosmoboost/data/beta_-0.00123/lmax_1000/K_T_s=0_delta3_lmax1000_beta-0.00123.fits\n"
     ]
    }
   ],
   "source": [
    "import cosmoboost as cb\n",
    "cb.COSMOBOOST_DIR\n",
    "\n",
    "pars = cb.DEFAULT_PARS\n",
    "pars['lmax']=1000\n",
    "kernel = cb.Kernel(pars)\n",
    "\n"
   ]
  },
  {
   "cell_type": "markdown",
   "metadata": {},
   "source": [
    "# Simulate the sky"
   ]
  },
  {
   "cell_type": "code",
   "execution_count": 67,
   "metadata": {},
   "outputs": [],
   "source": [
    "import healpy as hp \n",
    "import numpy as np\n",
    "\n",
    "Dl = np.load(\"cosmoboost/Dl_camb_r05.npy\")\n",
    "\n",
    "T_0 = 2.725\n",
    "lmax=3000\n",
    "L=np.arange(lmax)\n",
    "rescale = T_0**2*(2*np.pi) / (L*(L+1)) #conversion factor from Dl to Cl\n",
    "rescale[0]=0. #fix the ell=0 mode from inf to 0\n",
    "\n",
    "Dl_TT=Dl[:lmax,0]\n",
    "Dl_EE=Dl[:lmax,1]\n",
    "Dl_BB=Dl[:lmax,2]\n",
    "Dl_TE=Dl[:lmax,3]\n",
    "\n",
    "Cl_TT = rescale*Dl_TT\n",
    "Cl_EE = rescale*Dl_EE\n",
    "Cl_BB = rescale*Dl_BB\n",
    "Cl_TE = rescale*Dl_TE\n",
    "\n",
    "\n",
    "Cl = np.array([Cl_TT,Cl_EE,Cl_BB,Cl_TE])\n",
    "alm_T, alm_E, alm_B = hp.synalm(Cl,lmax=lmax,new=True,verbose=True)\n",
    "\n",
    "alm_rest = np.array([alm_T, alm_E, alm_B])"
   ]
  },
  {
   "cell_type": "code",
   "execution_count": 68,
   "metadata": {},
   "outputs": [],
   "source": [
    "Cl_sim = hp.alm2cl(alm_rest)"
   ]
  },
  {
   "cell_type": "code",
   "execution_count": null,
   "metadata": {},
   "outputs": [],
   "source": []
  },
  {
   "cell_type": "code",
   "execution_count": null,
   "metadata": {},
   "outputs": [],
   "source": [
    "\n",
    "plt.plot(L,Cl_TT)\n",
    "plt.plot(L,Cl_EE)\n",
    "plt.plot(L,Cl_TE)\n",
    "\n",
    "plt.plot(L,Cl_sim[0])\n",
    "plt.plot(L,Cl_sim[1])\n",
    "plt.plot(L,Cl_sim[3])\n",
    "#plt.plot(L,Cl_sim[3])\n",
    "#plt.plot(L,Cl_sim[4])\n",
    "#plt.plot(L,Cl_sim[5])\n",
    "\n",
    "plt.xscale(\"log\")\n",
    "plt.yscale(\"log\")\n",
    "plt.xlim(2,2500)\n",
    "plt.show()"
   ]
  },
  {
   "cell_type": "markdown",
   "metadata": {},
   "source": [
    "# Boost the Sky"
   ]
  },
  {
   "cell_type": "code",
   "execution_count": 70,
   "metadata": {},
   "outputs": [
    {
     "data": {
      "text/plain": [
       "3100"
      ]
     },
     "execution_count": 70,
     "metadata": {},
     "output_type": "execute_result"
    }
   ],
   "source": [
    "kernel.lmax"
   ]
  },
  {
   "cell_type": "code",
   "execution_count": 73,
   "metadata": {},
   "outputs": [
    {
     "name": "stdout",
     "output_type": "stream",
     "text": [
      "(4504504,)\n",
      "(4504501, 7)\n",
      "Calculating the index matrices...\n",
      "solving kernel ODE for d=1\n",
      "calculating the Doppler and aberration Kernel elements...\n",
      "eta values :  [ 0.      -0.00123]\n",
      "calculation time = 124.646517992\n",
      "initializing fits file for the kernel...\n",
      "\n",
      "Kernel saved in: /Users/siavashyasini/Dropbox/Cosmology/Projects/2018/CosmoBoost/cosmoboost/data/beta_-0.00123/lmax_3000/K_T_s=2_delta3_lmax3000_beta-0.00123.fits\n",
      "Kernel loaded from file: /Users/siavashyasini/Dropbox/Cosmology/Projects/2018/CosmoBoost/cosmoboost/data/beta_-0.00123/lmax_3000/K_T_s=2_delta3_lmax3000_beta-0.00123.fits\n",
      "+d3\n",
      "+d2\n",
      "Calculating the index matrices...\n",
      "Kernel loaded from file: /Users/siavashyasini/Dropbox/Cosmology/Projects/2018/CosmoBoost/cosmoboost/data/beta_-0.00123/lmax_3000/K_T_s=2_delta3_lmax3000_beta-0.00123.fits\n",
      "Kernel loaded from file: /Users/siavashyasini/Dropbox/Cosmology/Projects/2018/CosmoBoost/cosmoboost/data/beta_-0.00123/lmax_3000/K_T_s=2_delta3_lmax3000_beta-0.00123.fits\n",
      "-d3\n",
      "-d2\n"
     ]
    }
   ],
   "source": [
    "alm_boos = cb.deboost_alm(alm_rest,kernel)"
   ]
  },
  {
   "cell_type": "code",
   "execution_count": null,
   "metadata": {},
   "outputs": [],
   "source": []
  },
  {
   "cell_type": "code",
   "execution_count": 74,
   "metadata": {},
   "outputs": [],
   "source": [
    "Cl = hp.alm2cl(alm_rest)\n",
    "Cl_b = hp.alm2cl(alm_boos)"
   ]
  },
  {
   "cell_type": "markdown",
   "metadata": {},
   "source": [
    "# Mask The sky"
   ]
  },
  {
   "cell_type": "code",
   "execution_count": 3,
   "metadata": {},
   "outputs": [
    {
     "ename": "NameError",
     "evalue": "name 'np' is not defined",
     "output_type": "error",
     "traceback": [
      "\u001b[0;31m---------------------------------------------------------------------------\u001b[0m",
      "\u001b[0;31mNameError\u001b[0m                                 Traceback (most recent call last)",
      "\u001b[0;32m<ipython-input-3-7cf08cc030ce>\u001b[0m in \u001b[0;36m<module>\u001b[0;34m()\u001b[0m\n\u001b[0;32m----> 1\u001b[0;31m \u001b[0mmask_rot\u001b[0m \u001b[0;34m=\u001b[0m \u001b[0mnp\u001b[0m\u001b[0;34m.\u001b[0m\u001b[0mload\u001b[0m\u001b[0;34m(\u001b[0m\u001b[0;34m'/Users/siavashyasini/Dropbox/Cosmology/Projects/2017/parameter_estimation/code/mask_T143_map_fits_rot.npy'\u001b[0m\u001b[0;34m)\u001b[0m\u001b[0;34m\u001b[0m\u001b[0m\n\u001b[0m\u001b[1;32m      2\u001b[0m \u001b[0;34m\u001b[0m\u001b[0m\n\u001b[1;32m      3\u001b[0m \u001b[0mNSIDE\u001b[0m\u001b[0;34m=\u001b[0m\u001b[0;36m2048\u001b[0m\u001b[0;34m\u001b[0m\u001b[0m\n\u001b[1;32m      4\u001b[0m \u001b[0mmap_rest\u001b[0m \u001b[0;34m=\u001b[0m \u001b[0mhp\u001b[0m\u001b[0;34m.\u001b[0m\u001b[0malm2map\u001b[0m\u001b[0;34m(\u001b[0m\u001b[0malm_rest\u001b[0m\u001b[0;34m,\u001b[0m\u001b[0mNSIDE\u001b[0m\u001b[0;34m)\u001b[0m\u001b[0;34m\u001b[0m\u001b[0m\n\u001b[1;32m      5\u001b[0m \u001b[0;34m\u001b[0m\u001b[0m\n",
      "\u001b[0;31mNameError\u001b[0m: name 'np' is not defined"
     ]
    }
   ],
   "source": [
    "mask_rot = np.load('/Users/siavashyasini/Dropbox/Cosmology/Projects/2017/parameter_estimation/code/mask_T143_map_fits_rot.npy')\n",
    "\n",
    "NSIDE=2048\n",
    "map_rest = hp.alm2map(alm_rest,NSIDE)\n",
    "\n",
    "map_boos = hp.alm2map(alm_boo,NSIDE)\n",
    "\n",
    "masked_map_rest = hp.ma(map_rest);\n",
    "masked_map_rest.shape\n",
    "masked_map_rest.mask = mask_rot\n",
    "\n",
    "masked_map_boos = hp.ma(map_boos);\n",
    "masked_map_boos.shape\n",
    "masked_map_boos.mask = mask_rot"
   ]
  },
  {
   "cell_type": "code",
   "execution_count": 2,
   "metadata": {},
   "outputs": [
    {
     "ename": "NameError",
     "evalue": "name 'mask_rot' is not defined",
     "output_type": "error",
     "traceback": [
      "\u001b[0;31m---------------------------------------------------------------------------\u001b[0m",
      "\u001b[0;31mNameError\u001b[0m                                 Traceback (most recent call last)",
      "\u001b[0;32m<ipython-input-2-ef2197c990e4>\u001b[0m in \u001b[0;36m<module>\u001b[0;34m()\u001b[0m\n\u001b[0;32m----> 1\u001b[0;31m \u001b[0mf_sky\u001b[0m \u001b[0;34m=\u001b[0m \u001b[0mmask_rot\u001b[0m\u001b[0;34m[\u001b[0m\u001b[0mmask_rot\u001b[0m\u001b[0;34m==\u001b[0m\u001b[0;36m0.\u001b[0m\u001b[0;34m]\u001b[0m\u001b[0;34m.\u001b[0m\u001b[0mshape\u001b[0m\u001b[0;34m[\u001b[0m\u001b[0;36m0\u001b[0m\u001b[0;34m]\u001b[0m\u001b[0;34m/\u001b[0m\u001b[0mnp\u001b[0m\u001b[0;34m.\u001b[0m\u001b[0mfloat\u001b[0m\u001b[0;34m(\u001b[0m\u001b[0mmask_rot\u001b[0m\u001b[0;34m.\u001b[0m\u001b[0mshape\u001b[0m\u001b[0;34m[\u001b[0m\u001b[0;36m0\u001b[0m\u001b[0;34m]\u001b[0m\u001b[0;34m)\u001b[0m\u001b[0;34m\u001b[0m\u001b[0m\n\u001b[0m",
      "\u001b[0;31mNameError\u001b[0m: name 'mask_rot' is not defined"
     ]
    }
   ],
   "source": [
    "f_sky = mask_rot[mask_rot==0.].shape[0]/np.float(mask_rot.shape[0])"
   ]
  },
  {
   "cell_type": "code",
   "execution_count": 1,
   "metadata": {},
   "outputs": [
    {
     "ename": "NameError",
     "evalue": "name 'f_sky' is not defined",
     "output_type": "error",
     "traceback": [
      "\u001b[0;31m---------------------------------------------------------------------------\u001b[0m",
      "\u001b[0;31mNameError\u001b[0m                                 Traceback (most recent call last)",
      "\u001b[0;32m<ipython-input-1-0c95a3d4223b>\u001b[0m in \u001b[0;36m<module>\u001b[0;34m()\u001b[0m\n\u001b[0;32m----> 1\u001b[0;31m \u001b[0;36m1\u001b[0m\u001b[0;34m-\u001b[0m\u001b[0mf_sky\u001b[0m\u001b[0;34m\u001b[0m\u001b[0m\n\u001b[0m",
      "\u001b[0;31mNameError\u001b[0m: name 'f_sky' is not defined"
     ]
    }
   ],
   "source": [
    "1-f_sky"
   ]
  },
  {
   "cell_type": "code",
   "execution_count": 175,
   "metadata": {},
   "outputs": [],
   "source": [
    "f_sky = mask_rot[mask_rot==0.].shape[0]/np.float(mask_rot.shape[0])\n",
    "masked_Cl_rest=(1/f_sky)*hp.anafast(masked_map_rest,lmax=lmax)\n",
    "\n",
    "masked_Cl_boos=(1/f_sky)*hp.anafast(masked_map_boos,lmax=lmax)"
   ]
  },
  {
   "cell_type": "code",
   "execution_count": 176,
   "metadata": {},
   "outputs": [
    {
     "data": {
      "image/png": "[encoded data removed]",
      "text/plain": [
       "<Figure size 432x288 with 1 Axes>"
      ]
     },
     "metadata": {},
     "output_type": "display_data"
    }
   ],
   "source": [
    "\n",
    "L=np.arange(3000)\n",
    "#plt.plot(L, 100*(np.true_divide(Cl_b[0],Cl[0] )-1) )\n",
    "plt.plot(L,Cl[0,:lmax],color=\"k\")\n",
    "plt.plot(L,masked_Cl_rest[0,:lmax])\n",
    "plt.plot(L,masked_Cl_boos[0,:lmax])\n",
    "\n",
    "\n",
    "#plt.ylim(1E-12,1E-8)\n",
    "plt.xlim(10,1000)\n",
    "#plt.ylim(-5,5)\n",
    "plt.yscale(\"log\")\n",
    "plt.xscale(\"log\")\n",
    "plt.show()"
   ]
  },
  {
   "cell_type": "code",
   "execution_count": 179,
   "metadata": {},
   "outputs": [],
   "source": [
    "np.save(\"masked_Cl_rest_sim\",masked_Cl_rest)\n",
    "np.save(\"masked_Cl_boos_sim\",masked_Cl_boos)\n"
   ]
  },
  {
   "cell_type": "code",
   "execution_count": null,
   "metadata": {},
   "outputs": [],
   "source": []
  },
  {
   "cell_type": "code",
   "execution_count": 99,
   "metadata": {},
   "outputs": [
    {
     "data": {
      "image/png": "[encoded data removed]",
      "text/plain": [
       "<Figure size 432x288 with 1 Axes>"
      ]
     },
     "metadata": {},
     "output_type": "display_data"
    }
   ],
   "source": [
    "\n",
    "L=np.arange(3001)\n",
    "plt.plot(L, 100*(np.true_divide(Cl_b[0],Cl[0] )-1) )\n",
    "#plt.plot(L,Cl[0])\n",
    "#plt.plot(L,Cl[1])\n",
    "\n",
    "\n",
    "#plt.ylim(1E-12,1E-8)\n",
    "plt.xlim(10,1000)\n",
    "plt.ylim(-5,5)\n",
    "#plt.yscale(\"log\")\n",
    "plt.xscale(\"log\")\n",
    "plt.show()"
   ]
  },
  {
   "cell_type": "code",
   "execution_count": 81,
   "metadata": {},
   "outputs": [
    {
     "data": {
      "image/png": "[encoded data removed]",
      "text/plain": [
       "<matplotlib.figure.Figure at 0x12135a9d0>"
      ]
     },
     "metadata": {},
     "output_type": "display_data"
    }
   ],
   "source": [
    "plt.plot(ell, np.abs (np.asarray(Cl_b[5]) ) )\n",
    "plt.show()"
   ]
  },
  {
   "cell_type": "code",
   "execution_count": null,
   "metadata": {},
   "outputs": [],
   "source": []
  }
 ],
 "metadata": {
  "kernelspec": {
   "display_name": "Python 2",
   "language": "python",
   "name": "python2"
  },
  "language_info": {
   "codemirror_mode": {
    "name": "ipython",
    "version": 2
   },
   "file_extension": ".py",
   "mimetype": "text/x-python",
   "name": "python",
   "nbconvert_exporter": "python",
   "pygments_lexer": "ipython2",
   "version": "2.7.13"
  }
 },
 "nbformat": 4,
 "nbformat_minor": 2
}
